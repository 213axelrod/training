{
 "cells": [
  {
   "cell_type": "markdown",
   "id": "4c05c4a3",
   "metadata": {
    "slideshow": {
     "slide_type": "slide"
    }
   },
   "source": [
    "# Low Bandwidth Socialist Organizing"
   ]
  },
  {
   "cell_type": "markdown",
   "id": "c739f720",
   "metadata": {
    "slideshow": {
     "slide_type": "slide"
    }
   },
   "source": [
    "# Purpose\n",
    "\n",
    "* Best foot forward for long-term socialist organizing and organization building\n",
    "* Contextualize available training modules based on stage of organizing"
   ]
  },
  {
   "cell_type": "markdown",
   "id": "4d44c4df",
   "metadata": {
    "slideshow": {
     "slide_type": "slide"
    }
   },
   "source": [
    "# Outline\n",
    "\n",
    "* ### Getting Started\n",
    "  * Setting Boundaries and Limits\n",
    "  * If Not Already, Plan on Therapy\n",
    "  * From Reciprocity to Organizational Recruitment\n",
    "  * Q&A and next steps\n",
    "\n",
    "* ### Building Membership & Organization\n",
    "  * Brief Ins and Outs of Functional Meetings\n",
    "  * Setting Equitable Expectations\n",
    "  * Sequenced Organizational Expansion\n",
    "  * Building Steering & Broader Leadership Ranks"
   ]
  },
  {
   "cell_type": "markdown",
   "id": "7e89905c",
   "metadata": {
    "slideshow": {
     "slide_type": "slide"
    }
   },
   "source": [
    "# Getting Started\n",
    "### Setting Boundaries and Limits\n",
    "* All of the following should be regularly revisited\n",
    "\n",
    "* Personally\n",
    "  * Chores and care\n",
    "  * Contact Information & Social Media Separation\n",
    "* With Family\n",
    "  * Work, relationship & travel time \n",
    "  * Times Not to Check Your Phone\n",
    "* With Friends\n",
    "  * Maintain non-organizational social spaces"
   ]
  },
  {
   "cell_type": "markdown",
   "id": "7731f651",
   "metadata": {
    "slideshow": {
     "slide_type": "notes"
    }
   },
   "source": [
    "* Setting Boundaries & Limits\n",
    "  * Personally\n",
    "    * Take care of yourself to avoid making mistakes and to do things well over fast.\n",
    "  * With Family\n",
    "    * It is easier to rebuild an organization than to rebuild a family. If push comes to shove, yield. The movement will be there when you can come back.\n",
    "  * With Friends\n",
    "    * Isn't it all or nothing for the revolution?\n",
    "    * Organizations can collapse and be personally devastating if that is where your social life is wholly contained."
   ]
  },
  {
   "cell_type": "markdown",
   "id": "023780c6",
   "metadata": {
    "slideshow": {
     "slide_type": "slide"
    }
   },
   "source": [
    "# Getting Started\n",
    "### Setting Boundaries and Limits\n",
    "* Time management is key\n",
    "  * Simple method: plan no more than 1 thing between each meal.\n",
    "  * Plan and replan regularly subject to boundaries & limits\n",
    "  <img src=\"Screenshot from 2024-01-06 20-36-36.png\" alt=\"test\">"
   ]
  },
  {
   "cell_type": "markdown",
   "id": "465cfcdf",
   "metadata": {
    "slideshow": {
     "slide_type": "notes"
    }
   },
   "source": [
    "# Getting Started\n",
    "### Setting Boundaries and Limits\n",
    "* Time management is an essential skill for balancing personal, family & social needs alongside socialist organizing\n",
    "* By limiting your planning to 1 thing between meals, you simplify your day while allowing for simple replanning if you over-achieve or need to rest more than you thought."
   ]
  },
  {
   "cell_type": "markdown",
   "id": "d87306d8",
   "metadata": {
    "slideshow": {
     "slide_type": "slide"
    }
   },
   "source": [
    "# Getting Started\n",
    "### If Not Already, Plan on Therapy\n",
    "* Sliding Scale Helps with Cost\n",
    "* How to Find Therapist\n",
    "  * Tools such as https://www.psychologytoday.com/ can help you search for a therapist\n",
    "  * Another such tool is https://www.badbitcheshavebaddaystoo.com/"
   ]
  },
  {
   "cell_type": "markdown",
   "id": "43206ebd",
   "metadata": {
    "slideshow": {
     "slide_type": "notes"
    }
   },
   "source": [
    "* Human systems work as well as the humans in it. Take care of yourself. It is not unusual for folks to lash our and make hard to reverse mistakes if they are pushed too far and too long without having therapy as an aid.\n",
    "* Sliding scale is where therapists can offer reduced cost therapy so you can meet your needs without going bankrupt.\n",
    "* You can use the screening tools to filter based on insurance, geography, types of therapy, LGBTQ affirming and so on. You don't have to know about the types of therapy to get started, your therapist will provide recommendations if they feel it would be helpful.\n",
    "* Next slide fragment\n",
    "* If You Need to Screen Therapist's Political Connections\n",
    "  * Look for a Young Therapist New to Community\n",
    "  * Double Check Using State & Federal Political Donation Trackers"
   ]
  },
  {
   "cell_type": "markdown",
   "id": "601ec84d",
   "metadata": {
    "slideshow": {
     "slide_type": "fragment"
    }
   },
   "source": [
    "* If You Need to Screen Therapist's Political Connections\n",
    "  * Look for a Young Therapist New to Community\n",
    "  * Double Check Using State & Federal Political Donation Trackers"
   ]
  },
  {
   "cell_type": "markdown",
   "id": "58a7ceba",
   "metadata": {
    "slideshow": {
     "slide_type": "slide"
    }
   },
   "source": [
    "# Getting Started\n",
    "### From Reciprocity to Organizational Recruitment\n",
    "* Personal Organizing Journal\n",
    "  * Contact information database of people who you ask or intend to ask.\n",
    "  * Numerically log interaction data as a reciprocity score\n",
    "  * [Facebook Organizing Journal Template with Instructions](https://docs.google.com/spreadsheets/d/1bAFGsMPx62KUfDoiU79Zd4D-r-NICRU1YOKKZiKNEvc/edit#gid=0)\n"
   ]
  },
  {
   "cell_type": "markdown",
   "id": "55f14296",
   "metadata": {
    "slideshow": {
     "slide_type": "notes"
    }
   },
   "source": [
    " * Less is more: Don't burn out people with excessive notifications\n",
    " * Set aside regular time to manually update or add notes in journal\n",
    " * You are free to write anything in your journal, but organizational asks may require more formal data use agreements."
   ]
  },
  {
   "cell_type": "markdown",
   "id": "bede2d26",
   "metadata": {
    "slideshow": {
     "slide_type": "slide"
    }
   },
   "source": [
    "# Getting Started\n",
    "### From Reciprocity to Organizational Recruitment\n",
    "* Personal Organizing Journal\n",
    "<img src=\"Screenshot from 2023-12-17 21-49-29.png\" alt=\"A spreadsheet with 2 sets of headings. The left set of headings are Friends, Do not message, Location, Notes, Affiliation(s), Asks, Reciprocity Rate, and Total Reciprocity. The right set of headings are Made Organizing Spreadsheet, Did at least a single 1-on-1 organizing conversation, Did at least 1 data entry session, Accepted Invite to Leftist Spreadsheet Chat, Used Spreadsheet for Organizing, Consented to being and was sent DPL Watchdogs' FOIA Tutorial, and Has Sent a FOIA. There are numerical counters below the headings.\">"
   ]
  },
  {
   "cell_type": "markdown",
   "id": "29b98625",
   "metadata": {
    "slideshow": {
     "slide_type": "slide"
    }
   },
   "source": [
    "# Getting Started\n",
    "\n",
    "### From Reciprocity to Organizational Recruitment\n",
    "* Building Reciprocity in Your Journal\n",
    "  * Digital Solidarity Asks\n",
    "    * \"Would you be up for donating to the Urbana Starbucks Workers United strike fund? Last week, their management & scabs kept the store open and went outside to try intimidating the workers for exercising their rights. It's ok if not in a position to and yes they're using the same donation link as last strike. https://www.gofundme.com/f/starbucks-workers-urbana-solidarity-fund\"\n",
    "  * Physical Solidarity Asks\n",
    "    * \"At 10am there will be a union drive for a fellow worker. We have been asked to show up and support this effort. Are you available?\""
   ]
  },
  {
   "cell_type": "markdown",
   "id": "b1fccf5f",
   "metadata": {
    "slideshow": {
     "slide_type": "slide"
    }
   },
   "source": [
    "# Getting Started\n",
    "\n",
    "### From Reciprocity to Organizational Recruitment\n",
    "* Building Reciprocity in Your Journal\n",
    "    * Followup Asks\n",
    "      * \"Awesome, thank you so much & solidarity! If you are interested, a few of us will be meeting ahead of time at this link as a pre-staging ground at 6pm:\n",
    "https://meet.jit.si/NoAmerenShutoffs20220111_900e\"\n",
    "  * Ground the Spirit of the Asks in Socialism where Practical"
   ]
  },
  {
   "cell_type": "markdown",
   "id": "3851eb04",
   "metadata": {
    "slideshow": {
     "slide_type": "slide"
    }
   },
   "source": [
    "# Getting Started\n",
    "\n",
    "### From Reciprocity to Organizational Recruitment\n",
    " * Log Reciprocity Data!\n",
    "  <img src=\"Screenshot from 2023-12-18 08-29-38.png\" alt=\"Responses to Urbana Starbucks Workers United strike fund are logged as 0, 0.5 and 1 depending on if they did not respond, responded or donated, respectively.\">"
   ]
  },
  {
   "cell_type": "markdown",
   "id": "56cde4ee",
   "metadata": {
    "slideshow": {
     "slide_type": "notes"
    }
   },
   "source": [
    "* 1 for asks that were answered with a yes\n",
    "* 0.5 for asks that were responded to but were not a yes\n",
    "* 0 for asks that were not responded to"
   ]
  },
  {
   "cell_type": "markdown",
   "id": "bb506e6e",
   "metadata": {
    "slideshow": {
     "slide_type": "slide"
    }
   },
   "source": [
    "# Getting Started\n",
    "\n",
    "### From Reciprocity to Organizational Recruitment\n",
    "* Recruitment Conversations, Not Coercion\n",
    "  * Firstly, Enthusiastic Yes or Not Right Now\n",
    "  * Clarify Involvement Need Not Be Public\n",
    "  * Ground Aspired Socialist Organization in Theory of Change\n",
    "    * How does your socialist organization intend to acquire power?\n",
    "    * How does your socialist organization project power?\n",
    "    * What are expectations of members in your socialist organization?\n",
    "  * Start with high reciprocity or high reciprocity-rate people"
   ]
  },
  {
   "cell_type": "markdown",
   "id": "2c48108e",
   "metadata": {
    "slideshow": {
     "slide_type": "notes"
    }
   },
   "source": [
    "* Starting a socialist organization requires work, look for enthusiasm over agreement for your first asks.\n",
    "* You can ask them to join again later.\n",
    "* People are worried about affiliation/stigma. Their privacy matters and a lack of control here is a vector for burnout.\n",
    "* Use personal organizing journal \"Geography\" page which allows you to sort your contacts based on geography, reciprocity and/or reciprocity rate."
   ]
  },
  {
   "cell_type": "markdown",
   "id": "ad0dbdeb",
   "metadata": {
    "slideshow": {
     "slide_type": "slide"
    }
   },
   "source": [
    "# Getting Started\n",
    "\n",
    "### From Reciprocity to Organizational Recruitment\n",
    "\n",
    "* Setting Initial General Body Meeting Format\n",
    "  * Tools like Doodle, When2Meet, or LettuceMeet are useful\n",
    "* Determine Format of General Body Meetings\n",
    "  * Online or hybrid\n",
    "* At Meeting\n",
    "  * Determine Meeting Frequency\n",
    "  * Determine whether to affiliate with an existing socialist organization or to form a new one\n",
    "  * Determine Organization Communication Platform"
   ]
  },
  {
   "cell_type": "markdown",
   "id": "a256c778",
   "metadata": {
    "slideshow": {
     "slide_type": "notes"
    }
   },
   "source": [
    "* If new\n",
    "  * Be rigorous about why\n",
    "  * Determine definition of Membership\n",
    "* If not new\n",
    "  * Ensure clarity on definition and expectations of Membership\n",
    "* For communication platforms, it is highly recommended to split social and organizing communication. For example, using Slack for organizing/mobilizing and Discord for social chatter."
   ]
  },
  {
   "cell_type": "markdown",
   "id": "68cb2df3",
   "metadata": {
    "slideshow": {
     "slide_type": "slide"
    }
   },
   "source": [
    "# Getting Started: Q&A\n",
    "\n",
    "\n",
    "### Further Trainings\n",
    "\n",
    "* Time Management\n",
    "* Organizing Journal\n",
    "* Other requests"
   ]
  },
  {
   "cell_type": "markdown",
   "id": "687a3546",
   "metadata": {
    "slideshow": {
     "slide_type": "notes"
    }
   },
   "source": [
    "Activism can be done badly and induce unnecessary hardship or sacrifice. Questions now can help ensure that you start with the least disruption to your lives. "
   ]
  },
  {
   "cell_type": "markdown",
   "id": "b6d814c0",
   "metadata": {
    "slideshow": {
     "slide_type": "slide"
    }
   },
   "source": [
    "# Building Membership & Organization\n",
    "  * Brief Ins and Outs of Functional Meetings\n",
    "  * Setting Equitable Expectations\n",
    "  * Sequenced Organizational Expansion\n",
    "  * Building Steering & Broader Leadership Ranks"
   ]
  },
  {
   "cell_type": "markdown",
   "id": "8ed51ff0",
   "metadata": {
    "slideshow": {
     "slide_type": "slide"
    }
   },
   "source": [
    "# Building Membership & Organization\n",
    "### Brief Ins and Outs of Functional Meetings\n",
    "* General Body Meetings\n",
    "  * Allow Member Agenda Additions on the Floor\n",
    "  * Balance Bureaucratic & Mobilization/Organizing Agenda Items\n",
    "  * Include Brief Political Education\n",
    "* Committees and Working Groups\n",
    "  * Small Meetings Work\n",
    "  * Meeting Consistency & Equity\n",
    "  * Deliberative & Working Meeting Rotation"
   ]
  },
  {
   "cell_type": "markdown",
   "id": "ce1a8aa7",
   "metadata": {
    "slideshow": {
     "slide_type": "slide"
    }
   },
   "source": [
    "# Building Membership & Organization\n",
    "### Setting Equitable Expectations\n",
    "* Holiday & Breaks Calendar/Policy\n",
    "* Member Onboarding\n",
    "  * Organization & Structure\n",
    "  * Sustainable Organizing\n",
    "    * Boundaries and limits including mainly working during meetings\n",
    "    * Regular Organizational Access & Bandwidth Assessment\n",
    "  * Abuse Literacy\n",
    "    * Address issues as early as possible by ensuring mass literacy\n",
    "  * Local Political Landscape Overview\n",
    "    * Ensure members know the basics of their community's political underbelly\n"
   ]
  },
  {
   "cell_type": "markdown",
   "id": "9d383cc4",
   "metadata": {
    "slideshow": {
     "slide_type": "notes"
    }
   },
   "source": [
    "In the Organization & Structure section\n",
    "* Pitch to members why the local socialist organization is worth their time\n",
    "* Illustrate the mutual assistive bureaucracy\n",
    "* Member Activation Discussion\n",
    "  * Core-facing, Activist-facing, Supporter-facing, and/or Safety Considerations\n",
    "  * Recommend Initial Starting Point based on Activist Interests, Skillsets & Organizational Needs\n",
    "* Basics of Organizational Democracy\n",
    "  * Give members baseline tools for organization participation & accountability\n",
    "\n"
   ]
  },
  {
   "cell_type": "markdown",
   "id": "3dbb1915",
   "metadata": {
    "slideshow": {
     "slide_type": "slide"
    }
   },
   "source": [
    "# Building Membership & Organization\n",
    "### Minimum Mutually Assistive Bureaucracy (Order Matters)\n",
    "0. Mutually Assistive Bureaucracy\n",
    "1. Coalition of the Willing Steering Committee\n",
    "2. Mobilization Committee\n",
    "3. Archival Committee\n",
    "4. Solidarity Committee\n",
    "    * This is a general response body to enable the chapter to engage with community issues\n",
    "    * Initially will help with canvassing until a canvassing committee is formed"
   ]
  },
  {
   "cell_type": "markdown",
   "id": "d6b070dd",
   "metadata": {
    "slideshow": {
     "slide_type": "notes"
    }
   },
   "source": [
    "* Even if you affiliate with an existing socialist organization, you won't have full status on the local level, so that's what is meant by informal organization. \n",
    "* Mutually Assistive Bureacracies\n",
    "  * Mutually Assistive Bureacracies are efficient and so helpful in small sized organizations. Intentionally designed Mutually Assistive Bureacracies help ensure subformation contributions benefit the collective rather than the silo.\n",
    "* Coalition of the Willing Steering Committee\n",
    "  * Collective Contribution: Sets initial General Body Agenda & Considers Structural Changes to Improve Local Functionality\n",
    "* Mobilization Committee Collective Contribution\n",
    "  * Sends Meeting Reminder Messages & Enfranchises Unavailable Members\n",
    "* Archival Committee Collective Contribution\n",
    "  * Organizes Notes & Petition Data for Campaigns & Subformations\n",
    "* Solidarity Committee Collective Contribution\n",
    "  * Leads Local Part of Campaign If No Relevant Working Group Available"
   ]
  },
  {
   "cell_type": "markdown",
   "id": "8c4d91a9",
   "metadata": {
    "slideshow": {
     "slide_type": "slide"
    }
   },
   "source": [
    "# Building Membership & Organization\n",
    "### Pursuing Formal Organization Status\n",
    "* Establish Temporary ByLaws Sub-Committee Meeting\n",
    "* If/When ByLaws Adopted\n",
    "  * Establish Annual Steering Roles Presentation for Membership\n",
    "  * Establish & Schedule Election Process for Steering Committee"
   ]
  },
  {
   "cell_type": "markdown",
   "id": "1d2aa677",
   "metadata": {
    "slideshow": {
     "slide_type": "notes"
    }
   },
   "source": [
    "* The Sub-Committee is a temporarily chartered organization composed of the most active members in the chapter, they tend to be in the Coalition of the Willing Steering Committee.\n"
   ]
  },
  {
   "cell_type": "markdown",
   "id": "d5653880",
   "metadata": {
    "slideshow": {
     "slide_type": "slide"
    }
   },
   "source": [
    "# Building Membership & Organization\n",
    "### Build Out Mutually Assistive Bureaucracy Subformations (Recommended Order)\n",
    "5. Membership Committee\n",
    "6. Canvassing Committee\n",
    "7. Book Club Committee\n",
    "8. Litdrop Committee\n",
    "9. Mutual Aid and Community Service Committee\n",
    "10. Tech Committee\n",
    "11. Transportation Committee\n",
    "12. Organizational Liaisons"
   ]
  },
  {
   "cell_type": "markdown",
   "id": "41ec6e24",
   "metadata": {
    "slideshow": {
     "slide_type": "notes"
    }
   },
   "source": [
    "5. Membership Committee\n",
    "   * Initial Collective Contribution: Develops & Updates Member Onboarding & Educates Members on Current Campaigns\n",
    "   * Subsequent Collective Contribution: Develops & Updates Membership & Leadership Trainings\n",
    "6. Canvassing Committee\n",
    "   * Collective Contribution: Collects Signatures on Campaign Petitions\n",
    "7. Book Club Committee\n",
    "   * Collective Contribution: Presents Summary of Book Discussions on Political Theory to General Body Meetings\n",
    "8. Litdrop Committee\n",
    "   * Collective Contribution: Distribute Campaign Literature\n",
    "9. Mutual Aid and Community Service Committee\n",
    "   * Collective Contribution: Receives & Responds to aid requests\n",
    "     * Otherwise it informally defaults to core organizer(s) and is a vector of burnout\n",
    "     * Low-Resource Support Example: Subsidy Application Assistance\n",
    "10. Tech Committee\n",
    "    * Collective Contribution: Maintains & Develops Local Organization Technology\n",
    "11. Transportation Committee\n",
    "    * Collective Contribution: Transportation assistance for members and material for organization or subformation actions and documents public transit options in the region\n",
    "12. Organizational Liaisons\n",
    "    * Collective Contribution: These are note takers who do not represent the organization but attend or document meetings into a centralized archive to inform collective organizing."
   ]
  },
  {
   "cell_type": "markdown",
   "id": "0e517963",
   "metadata": {
    "slideshow": {
     "slide_type": "slide"
    }
   },
   "source": [
    "# Building Membership & Organization\n",
    "### Working Groups and Mutually Assistive Bureaucracy\n",
    "* Form based on member interest but with at least 1 low-resource explicit collective contribution in the charter\n",
    "* Examples\n",
    "  * Ecosocialist Working Group\n",
    "    * Collective Contribution: Community Garden Board\n",
    "  * Electoral Working Group\n",
    "    * Collective Contribution: Candidate Questionnaire\n",
    "  * Housing Working Group\n",
    "    * Collective Contribution: Rent Board\n",
    "  * Labor Working Group\n",
    "    * Collective Contribution: Union Job Board"
   ]
  },
  {
   "cell_type": "markdown",
   "id": "e54ab6c2",
   "metadata": {
    "slideshow": {
     "slide_type": "slide"
    }
   },
   "source": [
    "# Building Membership & Organization\n",
    "### Working Groups and Mutually Assistive Bureaucracy\n",
    "* Examples (Continued)\n",
    "  * Medicare for All Working Group\n",
    "    * Collective Contribution: Medical Caravan\n",
    "  * Reproductive Rights Working Group\n",
    "    * Collective Contribution: Reproductive Healthcare Board\n",
    "  * Stop Police Violence Working Group\n",
    "    * Collective Contribution: Alternative Response Board"
   ]
  },
  {
   "cell_type": "markdown",
   "id": "0a456761",
   "metadata": {
    "slideshow": {
     "slide_type": "slide"
    }
   },
   "source": [
    "# Building Membership & Organization\n",
    "### Building Membership Ranks\n",
    "* Wins Recruit\n",
    "  * Targetting Criteria from former CTU President Karen Lewis\n",
    "    * Does it Unite Us?\n",
    "    * Will it Make Us Stronger?\n",
    "    * Can We Win?\n",
    "  * Bandwidth Addendum\n",
    "    * If We Lose, Can We Still Win?"
   ]
  },
  {
   "cell_type": "markdown",
   "id": "79bd1a31",
   "metadata": {
    "slideshow": {
     "slide_type": "slide"
    }
   },
   "source": [
    "# Building Membership & Organization\n",
    "### Building Steering & Broader Leadership Ranks\n",
    "* Establish Leadership Expectations\n",
    "  * Not for professional or personal benefit\n",
    "  * Resignations are sometimes for the personal & collective benefit\n",
    "* Annual Leadership Building\n",
    "  * Schedule Announcements in Subformations & Regular Steering Training In Leadup to Election\n",
    "* Develop Monthly Leadership Training with Membership Committee"
   ]
  }
 ],
 "metadata": {
  "celltoolbar": "Slideshow",
  "kernelspec": {
   "display_name": "Python 3",
   "language": "python",
   "name": "python3"
  },
  "language_info": {
   "codemirror_mode": {
    "name": "ipython",
    "version": 3
   },
   "file_extension": ".py",
   "mimetype": "text/x-python",
   "name": "python",
   "nbconvert_exporter": "python",
   "pygments_lexer": "ipython3",
   "version": "3.8.8"
  }
 },
 "nbformat": 4,
 "nbformat_minor": 5
}
